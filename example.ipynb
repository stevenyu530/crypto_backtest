{
 "cells": [
  {
   "cell_type": "markdown",
   "metadata": {},
   "source": [
    "# Binance Data"
   ]
  },
  {
   "cell_type": "code",
   "execution_count": 4,
   "metadata": {},
   "outputs": [],
   "source": [
    "import config, csv\n",
    "from binance.client import Client"
   ]
  },
  {
   "cell_type": "code",
   "execution_count": 7,
   "metadata": {},
   "outputs": [],
   "source": [
    "client = Client(config.BINANCE_API_KEY, config.BINANCE_API_SECRET)"
   ]
  },
  {
   "cell_type": "code",
   "execution_count": 8,
   "metadata": {},
   "outputs": [
    {
     "name": "stdout",
     "output_type": "stream",
     "text": [
      "data/BTCUSDT-20210101-20210102-1m.csv 1441\n"
     ]
    }
   ],
   "source": [
    "dataStart = '1 Jan, 2021'\n",
    "dataEnd = '2 Jan, 2021'\n",
    "datafile = 'data/BTCUSDT-20210101-20210102-1m.csv'\n",
    "csvfile = open(datafile, 'w', newline='')\n",
    "candlestick_writer = csv.writer(csvfile, delimiter=',')\n",
    "\n",
    "candlesticks = client.get_historical_klines(\"BTCUSDT\", Client.KLINE_INTERVAL_1MINUTE, dataStart, dataEnd)\n",
    "\n",
    "for candlestick in candlesticks:\n",
    "    candlestick[0] = candlestick[0] / 1000 # divide timestamp to ignore miliseconds\n",
    "    candlestick_writer.writerow(candlestick)\n",
    "\n",
    "csvfile.close()\n",
    "\n",
    "print(datafile, len(candlesticks))"
   ]
  },
  {
   "cell_type": "code",
   "execution_count": 11,
   "metadata": {},
   "outputs": [
    {
     "data": {
      "text/plain": [
       "[[1609459200.0,\n",
       "  '28923.63000000',\n",
       "  '28961.66000000',\n",
       "  '28913.12000000',\n",
       "  '28961.66000000',\n",
       "  '27.45703200',\n",
       "  1609459259999,\n",
       "  '794382.04398665',\n",
       "  1292,\n",
       "  '16.77719500',\n",
       "  '485390.82682460',\n",
       "  '0'],\n",
       " [1609459260.0,\n",
       "  '28961.67000000',\n",
       "  '29017.50000000',\n",
       "  '28961.01000000',\n",
       "  '29009.91000000',\n",
       "  '58.47750100',\n",
       "  1609459319999,\n",
       "  '1695802.89696884',\n",
       "  1651,\n",
       "  '33.73381800',\n",
       "  '978176.46820208',\n",
       "  '0']]"
      ]
     },
     "execution_count": 11,
     "metadata": {},
     "output_type": "execute_result"
    }
   ],
   "source": [
    "candlesticks[:2]"
   ]
  },
  {
   "cell_type": "code",
   "execution_count": null,
   "metadata": {},
   "outputs": [],
   "source": []
  },
  {
   "cell_type": "code",
   "execution_count": 9,
   "metadata": {},
   "outputs": [
    {
     "ename": "FileNotFoundError",
     "evalue": "[Errno 2] No such file or directory: 'result/BTCUSDT-2021-01-01-2021-01-02-1m.csv'",
     "output_type": "error",
     "traceback": [
      "\u001b[0;31m---------------------------------------------------------------------------\u001b[0m",
      "\u001b[0;31mFileNotFoundError\u001b[0m                         Traceback (most recent call last)",
      "Input \u001b[0;32mIn [9]\u001b[0m, in \u001b[0;36m<module>\u001b[0;34m\u001b[0m\n\u001b[1;32m     16\u001b[0m subdir \u001b[38;5;241m=\u001b[39m \u001b[38;5;124m'\u001b[39m\u001b[38;5;124mdata2\u001b[39m\u001b[38;5;124m'\u001b[39m\n\u001b[1;32m     18\u001b[0m dataname \u001b[38;5;241m=\u001b[39m \u001b[38;5;124m'\u001b[39m\u001b[38;5;124mresult/\u001b[39m\u001b[38;5;132;01m{}\u001b[39;00m\u001b[38;5;124m-\u001b[39m\u001b[38;5;132;01m{}\u001b[39;00m\u001b[38;5;124m-\u001b[39m\u001b[38;5;132;01m{}\u001b[39;00m\u001b[38;5;124m-\u001b[39m\u001b[38;5;132;01m{}\u001b[39;00m\u001b[38;5;124m.csv\u001b[39m\u001b[38;5;124m'\u001b[39m\u001b[38;5;241m.\u001b[39mformat(xchange, start, end, \u001b[38;5;124m'\u001b[39m\u001b[38;5;124m1m\u001b[39m\u001b[38;5;124m'\u001b[39m)\n\u001b[0;32m---> 19\u001b[0m csvfile \u001b[38;5;241m=\u001b[39m \u001b[38;5;28;43mopen\u001b[39;49m\u001b[43m(\u001b[49m\u001b[43mdataname\u001b[49m\u001b[43m,\u001b[49m\u001b[43m \u001b[49m\u001b[38;5;124;43m'\u001b[39;49m\u001b[38;5;124;43mw\u001b[39;49m\u001b[38;5;124;43m'\u001b[39;49m\u001b[43m,\u001b[49m\u001b[43m \u001b[49m\u001b[43mnewline\u001b[49m\u001b[38;5;241;43m=\u001b[39;49m\u001b[38;5;124;43m'\u001b[39;49m\u001b[38;5;124;43m'\u001b[39;49m\u001b[43m,\u001b[49m\u001b[43m \u001b[49m\u001b[43mencoding\u001b[49m\u001b[38;5;241;43m=\u001b[39;49m\u001b[38;5;124;43m'\u001b[39;49m\u001b[38;5;124;43mUTF8\u001b[39;49m\u001b[38;5;124;43m'\u001b[39;49m\u001b[43m)\u001b[49m\n\u001b[1;32m     20\u001b[0m result_writer \u001b[38;5;241m=\u001b[39m csv\u001b[38;5;241m.\u001b[39mwriter(csvfile, delimiter\u001b[38;5;241m=\u001b[39m\u001b[38;5;124m'\u001b[39m\u001b[38;5;124m,\u001b[39m\u001b[38;5;124m'\u001b[39m)\n\u001b[1;32m     22\u001b[0m \u001b[38;5;28;01mfor\u001b[39;00m data \u001b[38;5;129;01min\u001b[39;00m os\u001b[38;5;241m.\u001b[39mlistdir(\u001b[38;5;124m\"\u001b[39m\u001b[38;5;124m./\u001b[39m\u001b[38;5;124m\"\u001b[39m\u001b[38;5;241m+\u001b[39msubdir):\n",
      "\u001b[0;31mFileNotFoundError\u001b[0m: [Errno 2] No such file or directory: 'result/BTCUSDT-2021-01-01-2021-01-02-1m.csv'"
     ]
    }
   ],
   "source": [
    "import backtest, csv, os\n",
    "\n",
    "commission_val = 0.0075 # spot% taker fees binance usdt futures\n",
    "start_portfolio = 100000.0\n",
    "portfolio = start_portfolio\n",
    "stake_val = 1\n",
    "quantity = 0.10\n",
    "\n",
    "xchange = 'BTCUSDT'\n",
    "start = '2021-01-01'\n",
    "end = '2021-01-02'\n",
    "strategy = 'RSI'\n",
    "period = 12\n",
    "stopLoss = 0\n",
    "limits = [70,30]\n",
    "subdir = 'data2'\n",
    "\n",
    "dataname = 'result/{}-{}-{}-{}.csv'.format(xchange, start, end, '1m')\n",
    "csvfile = open(dataname, 'w', newline='', encoding='UTF8')\n",
    "result_writer = csv.writer(csvfile, delimiter=',')\n",
    "    \n",
    "for data in os.listdir(\"./\"+subdir):\n",
    "\n",
    "    plot = True\n",
    "    if not (start.replace('-','') in data and end.replace('-','') in data): \n",
    "        continue\n",
    "        \n",
    "    datapath = subdir + '/' + data\n",
    "    sep = datapath[len(subdir)+1:-4].split(sep='-') # ignore name file 'data/' and '.csv'\n",
    "    # sep[0] = xchange  sep[1] = start  sep[2] = end  sep[3] = timeframe\n",
    "\n",
    "    print('\\n ------------ ', datapath)\n",
    "            \n",
    "               \n",
    "    end_val, totalwin, totalloss, pnl_net, sqn = backtest.runbacktest(datapath, start, end, period, strategy, \\\n",
    "                                                                      limits[0], limits[1], commission_val, portfolio, stake_val, quantity, stopLoss, plot)\n",
    "\n",
    "    profit = (pnl_net / portfolio) * 100\n",
    "\n",
    "    # view the data in the console while processing\n",
    "    print('%s, %s (Pd %d) (SL %.1f%%) (U%d L%d) Net $%.2f (%.2f%%) WL %d/%d SQN %.2f' % (datapath[5:], strategy, period, stopLoss*100, limits[0], limits[1], end_val - start_portfolio, (end_val - start_portfolio)/start_portfolio*100, totalwin, totalloss, sqn))\n",
    "\n",
    "    result_writer.writerow([sep[1], strategy, period, stopLoss*100, limits[0], limits[1], \"{:.2f}\".format(end_val - start_portfolio), totalwin, totalloss, sqn])\n",
    "\n",
    "\n",
    "csvfile.close()"
   ]
  },
  {
   "cell_type": "markdown",
   "metadata": {
    "pycharm": {
     "name": "#%% md\n"
    }
   },
   "source": [
    "# Best Strategies"
   ]
  },
  {
   "cell_type": "code",
   "execution_count": 1,
   "metadata": {
    "collapsed": false,
    "jupyter": {
     "outputs_hidden": false
    },
    "pycharm": {
     "name": "#%%\n"
    }
   },
   "outputs": [],
   "source": [
    "import pandas as pd\n",
    "import os"
   ]
  }
 ],
 "metadata": {
  "kernelspec": {
   "display_name": "Python 3 (ipykernel)",
   "language": "python",
   "name": "python3"
  },
  "language_info": {
   "codemirror_mode": {
    "name": "ipython",
    "version": 3
   },
   "file_extension": ".py",
   "mimetype": "text/x-python",
   "name": "python",
   "nbconvert_exporter": "python",
   "pygments_lexer": "ipython3",
   "version": "3.9.9"
  }
 },
 "nbformat": 4,
 "nbformat_minor": 4
}
